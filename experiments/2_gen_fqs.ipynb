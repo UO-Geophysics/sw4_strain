{
 "cells": [
  {
   "cell_type": "code",
   "execution_count": 1,
   "id": "6197b1de",
   "metadata": {},
   "outputs": [],
   "source": [
    "from mudpy import fakequakes,runslip,forward,viewFQ\n",
    "import numpy as np\n",
    "from obspy.core import UTCDateTime,read\n",
    "from shutil import copy"
   ]
  },
  {
   "cell_type": "code",
   "execution_count": 2,
   "id": "b5933130",
   "metadata": {},
   "outputs": [],
   "source": [
    "########                            GLOBALS                             ########\n",
    "\n",
    "home = '/Users/sydneydybing/SW4/strain/experiments/' # set up for laptop\n",
    "project_name = 'usgs_plane_fine_force_hypo_test'\n",
    "run_name = 'usgs_plane_fine_force_hypo_test'"
   ]
  },
  {
   "cell_type": "code",
   "execution_count": 3,
   "id": "0f4ddabb",
   "metadata": {},
   "outputs": [],
   "source": [
    "##############             What do you want to do??           ##################\n",
    "\n",
    "init = 0\n",
    "make_ruptures = 1\n",
    "make_GFs = 0\n",
    "make_synthetics = 0\n",
    "make_waveforms = 0\n",
    "make_hf_waveforms = 0\n",
    "match_filter = 0\n",
    "make_statics = 0\n",
    "# Things that only need to be done once\n",
    "load_distances = 1 # for make_ruptures. Set to 0 on first run and 1 after\n",
    "G_from_file = 0 # for make_waveforms. Set to 0 on first run and 1 after"
   ]
  },
  {
   "cell_type": "code",
   "execution_count": 4,
   "id": "a434396a-b655-43ac-aa4c-cfbe36d81b1c",
   "metadata": {},
   "outputs": [],
   "source": [
    "hypocenter = [-117.620771, 35.779107, 11.596]"
   ]
  },
  {
   "cell_type": "code",
   "execution_count": 5,
   "id": "2ad9482b-80d9-4c81-94ce-3667fd2aa89f",
   "metadata": {},
   "outputs": [
    {
     "data": {
      "text/plain": [
       "11.596"
      ]
     },
     "execution_count": 5,
     "metadata": {},
     "output_type": "execute_result"
    }
   ],
   "source": [
    "hypocenter[2]"
   ]
  },
  {
   "cell_type": "code",
   "execution_count": 6,
   "id": "bef06091",
   "metadata": {},
   "outputs": [],
   "source": [
    "##############                 Run parameters                ##################\n",
    "\n",
    "# Runtime parameters \n",
    "ncpus = 2                                        # How many CPUs you want to use for parallelization (needs to be at least 2)\n",
    "Nrealizations = 2                                # Number of fake ruptures to generate per magnitude bin - ncups overrides this?\n",
    "hot_start = 0\n",
    "\n",
    "# File parameters\n",
    "model_name = 'mojave.mod'\n",
    "# model_name = 'ridgecrest.mod'                      # Velocity model file name\n",
    "fault_name = 'usgs_plane_fine.fault'                    # Fault model name\n",
    "mean_slip_name = None                            # Set to path of .rupt file if patterning synthetic runs after a mean rupture model\n",
    "# run_name = 'rcrest_m7'                            # Base name of each synthetic run (i.e. mentawai.000000, mentawai.000001, etc...)\n",
    "rupture_list = 'ruptures.list'                   # Name of list of ruptures that are used to generate waveforms.  'ruptures.list' uses the full list of ruptures FakeQuakes creates. If you create file with a sublist of ruptures, use that file name.\n",
    "distances_name = 'original'                      # Name of matrix with estimated distances between subfaults i and j for every subfault pair                              # This should be zero the first time you run FakeQuakes with your fault model.\n",
    "\n",
    "# Source parameters\n",
    "UTM_zone = '11S'                                 # UTM_zone for rupture region \n",
    "time_epi = UTCDateTime('2019-07-06T03:19:53.040')   # Origin time of event (can set to any time, as long as it's not in the future)\n",
    "# target_Mw = np.array([4.5, 5.0, 5.5, 6.0, 6.5, 7.0, 7.5])                      # Desired magnitude(s), can either be one value or an array\n",
    "# target_Mw_flip = np.arange(6.8,7.3,0.1) # goes from 4.3 to 7.5, 100 ruptures per 0.1 mag bin for 3300 total\n",
    "# target_Mw = np.flip(target_Mw_flip)\n",
    "target_Mw = [7.1]\n",
    "hypocenter = [-117.620771, 35.779107, 11.596]    # Coordinates of subfault closest to desired hypocenter, or set to None for random\n",
    "force_hypocenter = True                         # Set to True if hypocenter specified\n",
    "rake = 180                                        # Average rake for subfaults\n",
    "scaling_law = 'S'                                # Type of rupture: T for thrust, S for strike-slip, N for normal\n",
    "force_magnitude = True                          # Set to True if you want the rupture magnitude to equal the exact target magnitude\n",
    "force_area = True                               # Set to True if you want the ruptures to fill the whole fault model\n",
    "\n",
    "# Correlation function parameters\n",
    "hurst = 0.4                                      # Hurst exponent form Melgar and Hayes 2019\n",
    "Ldip = 'auto'                                    # Correlation length scaling: 'auto' uses Melgar and Hayes 2019, 'MB2002' uses Mai and Beroza 2002\n",
    "Lstrike = 'auto'                                 # Same as above\n",
    "slip_standard_deviation = 0.9                    # Standard deviation for slip statistics: Keep this at 0.9\n",
    "lognormal = True                                 # Keep this as True to solve the problem of some negative slip subfaults that are produced\n",
    "\n",
    "# Rupture propagation parameters\n",
    "rise_time = 'MH2017'                                # Scaling law?\n",
    "rise_time_depths = [1,2]                       # Transition depths for rise time scaling (if slip shallower than first index, rise times are twice as long as calculated)\n",
    "max_slip = 40                                    # Maximum sip (m) allowed in the model\n",
    "max_slip_rule = False                            # If true, uses a magntidude-depence for max slip\n",
    "shear_wave_fraction_shallow = 0.5                        # 0.8 is a standard value (Mai and Beroza 2002)\n",
    "shear_wave_fraction_deep = 0.8\n",
    "source_time_function = 'dreger'                  # options are 'triangle' or 'cosine' or 'dreger'\n",
    "stf_falloff_rate = 4                             # Only affects Dreger STF, 4-8 are reasonable values\n",
    "num_modes = 72                                   # Number of modes in K-L expansion\n",
    "slab_name = None                                 # Slab 2.0 Ascii file for 3D geometry, set to None for simple 2D geometry\n",
    "mesh_name = None                                 # GMSH output file for 3D geometry, set to None for simple 2D geometry\n",
    "\n",
    "# Green's Functions parameters\n",
    "GF_list = 'rc_gflist.gflist'                            # Stations file name\n",
    "G_name = 'rc'                                    # Basename you want for the Green's functions matrices                           # This should be 1 to make the synthetics                                # This should be zero the first time you run FakeQuakes with your fault model and stations.\n",
    "\n",
    "# fk parameters\n",
    "# used to solve wave equation in frequency domain \n",
    "dk = 0.1 ; pmin = 0 ; pmax = 1 ; kmax = 20             # Should be set to 0.1, 0, 1, 20\n",
    "custom_stf = None                                # Assumes specified source time function above if set to None\n",
    "\n",
    "# Low frequency waveform parameters\n",
    "dt = 1.0                                         # Sampling interval of LF data \n",
    "NFFT = 256                                       # Number of samples in LF waveforms (should be in powers of 2)\n",
    "# dt*NFFT  =  length of low-frequency dispalcement record\n",
    "# want this value to be close to duration (length of high-frequency record)\n",
    "\n",
    "# High frequency waveform parameters\n",
    "stress_parameter = 50                            # Stress drop measured in bars (standard value is 50)\n",
    "moho_depth_in_km = 30.0                          # Average depth to Moho in this region \n",
    "Pwave = True                                     # Calculates P-waves as well as S-waves if set to True, else just S-Waves\n",
    "kappa = None                                     # Station kappa values: Options are GF_list for station-specific kappa, a singular value for all stations, or the default 0.04s for every station if set to None\n",
    "hf_dt = 0.01                                     # Sampling interval of HF data\n",
    "duration = 120                                   # Duration (in seconds) of HF record\n",
    "\n",
    "high_stress_depth = 30                           # Doesn't do anything, but still shows up as a parameter. Set to whatever you want. \n",
    "\n",
    "# Match filter parameters\n",
    "zero_phase = True                                # If True, filters waveforms twice to remove phase, else filters once\n",
    "order = 4                                        # Number of poles for filters\n",
    "fcorner = 0.998                                  # Corner frequency at which to filter waveforms (needs to be between 0 and the Nyquist frequency)\n"
   ]
  },
  {
   "cell_type": "code",
   "execution_count": 7,
   "id": "f26a1572",
   "metadata": {},
   "outputs": [],
   "source": [
    "# Set up project folder\n",
    "\n",
    "if init == 1:\n",
    "    \n",
    "    fakequakes.init(home,project_name)\n",
    "\n",
    "    # Copy files into the project folder\n",
    "\n",
    "    copy(home + 'mojave.mod', '/' + home + '/' + project_name + '/structure')\n",
    "    copy(home + 'usgs_plane_fine.fault', '/' + home + '/' + project_name + '/data/model_info')\n",
    "    copy(home + 'rc_gflist.gflist', '/' + home + '/' + project_name + '/data/station_info')\n",
    "    \n"
   ]
  },
  {
   "cell_type": "code",
   "execution_count": 8,
   "id": "94275e20",
   "metadata": {},
   "outputs": [
    {
     "name": "stdout",
     "output_type": "stream",
     "text": [
      "Building obspy.taup model for '/Users/sydneydybing/SW4/strain/experiments/usgs_plane_fine_force_hypo_test/structure/mojave.nd' ...\n",
      "filename = /Users/sydneydybing/SW4/strain/experiments/usgs_plane_fine_force_hypo_test/structure/mojave.nd\n",
      "Done reading velocity model.\n",
      "Radius of model . is 6371.0\n",
      "Using parameters provided in TauP_config.ini (or defaults if not) to call SlownessModel...\n",
      "Parameters are:\n",
      "taup.create.min_delta_p = 0.1 sec / radian\n",
      "taup.create.max_delta_p = 11.0 sec / radian\n",
      "taup.create.max_depth_interval = 115.0 kilometers\n",
      "taup.create.max_range_interval = 0.04363323129985824 degrees\n",
      "taup.create.max_interp_error = 0.05 seconds\n",
      "taup.create.allow_inner_core_s = True\n",
      "Slow model  959 P layers,1223 S layers\n",
      "Done calculating Tau branches.\n",
      "Done Saving /Users/sydneydybing/SW4/strain/experiments/usgs_plane_fine_force_hypo_test/structure/mojave.npz\n",
      "Method run is done, but not necessarily successful.\n",
      "MPI: Starting 2 FakeQuakes Rupture Generations on  2 CPUs\n",
      "Run number: 000001\n",
      "\n",
      "Generating rupture scenarios\n",
      "... Calculating ruptures for target magnitude Mw = 7.1\n",
      "... ... working on ruptures 0 to 1 of 2\n",
      "Run number: 000000\n",
      "\n"
     ]
    }
   ],
   "source": [
    "# Generate rupture models\n",
    "\n",
    "if make_ruptures == 1:\n",
    "    \n",
    "    fakequakes.generate_ruptures(home,project_name,run_name,fault_name,slab_name,mesh_name,load_distances,\n",
    "                                 distances_name,UTM_zone,target_Mw,model_name,hurst,Ldip,Lstrike,num_modes,Nrealizations,rake,rise_time,\n",
    "                                 rise_time_depths,time_epi,max_slip,source_time_function,lognormal,slip_standard_deviation,scaling_law,\n",
    "                                 ncpus,mean_slip_name=mean_slip_name,force_magnitude=force_magnitude,force_area=force_area,\n",
    "                                 hypocenter=hypocenter,force_hypocenter=force_hypocenter,shear_wave_fraction_shallow=shear_wave_fraction_shallow,\n",
    "                                 shear_wave_fraction_deep=shear_wave_fraction_deep,max_slip_rule=max_slip_rule)\n",
    "    \n"
   ]
  },
  {
   "cell_type": "code",
   "execution_count": 29,
   "id": "775424d1",
   "metadata": {
    "scrolled": true
   },
   "outputs": [],
   "source": [
    "# Make Green's functions\n",
    "\n",
    "if make_GFs == 1 or make_synthetics == 1:\n",
    "    \n",
    "    runslip.inversionGFs(home,project_name,GF_list,None,fault_name,model_name,\n",
    "        dt,None,NFFT,None,make_GFs,make_synthetics,dk,pmin,\n",
    "        pmax,kmax,0,time_epi,hot_start,ncpus,custom_stf,impulse=True) \n",
    "    \n",
    "# started 2:28am Jul 8\n"
   ]
  },
  {
   "cell_type": "code",
   "execution_count": 30,
   "id": "7632267d",
   "metadata": {},
   "outputs": [],
   "source": [
    "# # Make low frequency displacement waveforms\n",
    "\n",
    "if make_waveforms == 1:\n",
    "    \n",
    "    forward.waveforms_fakequakes(home,project_name,fault_name,rupture_list,GF_list, # need to shorten path again\n",
    "        model_name,run_name,dt,NFFT,G_from_file,G_name,source_time_function,\n",
    "        stf_falloff_rate,ncpus=ncpus)\n",
    "    \n",
    "# See some of the waveforms\n",
    "\n",
    "# stas = np.genfromtxt('/Users/sydneydybing/RC_FQ/flt3_tst_rnge/data/station_info/RC_gflist_short.gflist', usecols=0, dtype=str)\n",
    "# rupt = '/rcrest_M6.000000'\n",
    "\n",
    "# for sta in stas:\n",
    "    \n",
    "#     st = read(f'{home}{project_name}/output/waveforms' + rupt + '/' + sta + '.LYE.sac')\n",
    "#     st.plot()\n",
    "\n",
    "\n"
   ]
  },
  {
   "cell_type": "code",
   "execution_count": null,
   "id": "e0962958",
   "metadata": {},
   "outputs": [],
   "source": []
  }
 ],
 "metadata": {
  "kernelspec": {
   "display_name": "mudpy",
   "language": "python",
   "name": "mudpy"
  },
  "language_info": {
   "codemirror_mode": {
    "name": "ipython",
    "version": 3
   },
   "file_extension": ".py",
   "mimetype": "text/x-python",
   "name": "python",
   "nbconvert_exporter": "python",
   "pygments_lexer": "ipython3",
   "version": "3.11.8"
  }
 },
 "nbformat": 4,
 "nbformat_minor": 5
}
