{
 "cells": [
  {
   "cell_type": "code",
   "execution_count": 2,
   "id": "21a42af2-f719-418a-95ab-8c60dfb54136",
   "metadata": {},
   "outputs": [],
   "source": [
    "import numpy as np"
   ]
  },
  {
   "cell_type": "code",
   "execution_count": 5,
   "id": "4ccb5e32-d437-4bb9-82f1-629377c7042c",
   "metadata": {},
   "outputs": [],
   "source": [
    "# Make a series of earthquakes from M5-8, where each rupture scales with magnitude\n",
    "# Use the Ridgecrest planar fault model and hypocenter\n",
    "# Each earthquake fault length, slip amount, and rise time scales by magnitude"
   ]
  },
  {
   "cell_type": "code",
   "execution_count": 22,
   "id": "2aa21607-03bb-4c44-8a7b-c4171af6f578",
   "metadata": {},
   "outputs": [],
   "source": [
    "Mws = [5, 6, 7, 8]"
   ]
  },
  {
   "cell_type": "code",
   "execution_count": 26,
   "id": "962251b0-ed78-4fa4-bcc0-77bb474393e1",
   "metadata": {},
   "outputs": [],
   "source": [
    "# Scaling relations from Wells and Coppersmith (1994) \n",
    "\n",
    "# Subsurface rupture length (RLD) - strike-slip (Mw 4.8-8.1)\n",
    "\n",
    "a = -2.57\n",
    "b = 0.62\n",
    "lengths_km = []\n",
    "\n",
    "for Mw in Mws:\n",
    "    \n",
    "    log_RLD = a + b * Mw\n",
    "    L_km = 10**(log_RLD)\n",
    "    lengths_km.append(L_km)\n",
    "    # print(Mw, round(L_km))\n",
    "\n",
    "# Average slip (m) - strike-slip (Mw 5.6-8.1)\n",
    "\n",
    "a = -6.32\n",
    "b = 0.9\n",
    "avg_slips_m = []\n",
    "\n",
    "for Mw in Mws:\n",
    "    \n",
    "    log_AD = a + b * Mw\n",
    "    D_m = 10**(log_AD)\n",
    "    avg_slips_m.append(D_m)\n",
    "    # print(Mw, round(D_m,4))\n",
    "\n",
    "# Rise time scaling relation from Melgar and Hayes (2017)\n",
    "\n",
    "a = -5.323\n",
    "b = 0.293\n",
    "rise_times_s = []\n",
    "\n",
    "for Mw in Mws:\n",
    "    \n",
    "    M0 = 10**(1.5*Mw + 9.05)\n",
    "    \n",
    "    log_rt = a + b * np.log10(M0)\n",
    "    rise_time = 10**log_rt\n",
    "    rise_times_s.append(rise_time)\n",
    "    # print(Mw, rise_time)"
   ]
  },
  {
   "cell_type": "code",
   "execution_count": 28,
   "id": "979e3ba2-d151-4ab5-8b3a-93e2c112d711",
   "metadata": {},
   "outputs": [],
   "source": [
    "model_params = np.column_stack((np.array(Mws), np.array(lengths_km), np.array(avg_slips_m), np.array(rise_times_s)))"
   ]
  },
  {
   "cell_type": "code",
   "execution_count": 30,
   "id": "6979e572-da26-42f6-9980-5d38533c096f",
   "metadata": {},
   "outputs": [],
   "source": [
    "np.save('/Users/sydneydybing/SW4/strain/experiments/realistic_eq_sizes/rupture_params.npy', model_params)"
   ]
  },
  {
   "cell_type": "code",
   "execution_count": null,
   "id": "770d144b-5931-44b3-9a72-a1e4c227b881",
   "metadata": {},
   "outputs": [],
   "source": []
  },
  {
   "cell_type": "code",
   "execution_count": null,
   "id": "03c53567-3b68-470f-8b42-f4caf9cc2ab7",
   "metadata": {},
   "outputs": [],
   "source": []
  },
  {
   "cell_type": "code",
   "execution_count": null,
   "id": "7eb3ef3e-f731-4768-8fe8-b54542c97c45",
   "metadata": {},
   "outputs": [],
   "source": []
  },
  {
   "cell_type": "code",
   "execution_count": null,
   "id": "ecc9341b-fd53-4a24-a0da-fc6a06e0dad0",
   "metadata": {},
   "outputs": [],
   "source": []
  },
  {
   "cell_type": "code",
   "execution_count": null,
   "id": "5a76088f-d03e-43a5-8150-c465ca82e26d",
   "metadata": {},
   "outputs": [],
   "source": []
  },
  {
   "cell_type": "code",
   "execution_count": null,
   "id": "f10e9311-6638-4820-9d0f-529a1e84db80",
   "metadata": {},
   "outputs": [],
   "source": []
  },
  {
   "cell_type": "code",
   "execution_count": null,
   "id": "8c073e31-bf55-4aa7-9d83-c5701ad54996",
   "metadata": {},
   "outputs": [],
   "source": []
  },
  {
   "cell_type": "code",
   "execution_count": null,
   "id": "30dfd7e8-6616-4ef5-8ba6-9b3aad94b648",
   "metadata": {},
   "outputs": [],
   "source": []
  },
  {
   "cell_type": "code",
   "execution_count": null,
   "id": "c2d283d8-5950-4d33-b8ca-e78fdc344397",
   "metadata": {},
   "outputs": [],
   "source": []
  },
  {
   "cell_type": "code",
   "execution_count": null,
   "id": "50075fdf-6b33-44cd-bb54-e79c90205ca0",
   "metadata": {},
   "outputs": [],
   "source": []
  },
  {
   "cell_type": "code",
   "execution_count": null,
   "id": "63d97efb-5ea7-4cb6-ba69-74dc9e5d04c3",
   "metadata": {},
   "outputs": [],
   "source": [
    "# Scaling relation from Blaser (2010) - orthogonal equation for strike-slip (Mw range 4.6-8.1)\n",
    "\n",
    "a = -2.69\n",
    "b = 0.64\n",
    "\n",
    "print('Blaser lengths (km)')\n",
    "\n",
    "for Mw in Mws:\n",
    "    \n",
    "    log10_L_km = a + b * Mw\n",
    "    L_km = 10**(log10_L_km)\n",
    "    print(Mw, round(L_km))\n",
    "    \n",
    "# Scaling relations from Allen and Hayes (2017) - offshore\n",
    "\n",
    "# Length (km) - strike-slip (Mw 7.2-8.7)\n",
    "\n",
    "a = -2.81\n",
    "b = 0.63\n",
    "\n",
    "print('Allen and Hayes lengths (km)')\n",
    "\n",
    "for Mw in Mws:\n",
    "    \n",
    "    log10_L_km = a + b * Mw\n",
    "    L_km = 10**(log10_L_km)\n",
    "    print(Mw, round(L_km))\n",
    "\n",
    "# Average slip (m) - strike-slip (Mw 7.2-8.7)\n",
    "\n",
    "a = -4.52\n",
    "b = 0.66\n",
    "\n",
    "print('Allen and Hayes avg slip (m)')\n",
    "\n",
    "for Mw in Mws:\n",
    "    \n",
    "    log_Dav = a + b * Mw\n",
    "    D_m = 10**(log_Dav)\n",
    "    print(Mw, round(D_m,4))"
   ]
  }
 ],
 "metadata": {
  "kernelspec": {
   "display_name": "Python 3 (ipykernel)",
   "language": "python",
   "name": "python3"
  },
  "language_info": {
   "codemirror_mode": {
    "name": "ipython",
    "version": 3
   },
   "file_extension": ".py",
   "mimetype": "text/x-python",
   "name": "python",
   "nbconvert_exporter": "python",
   "pygments_lexer": "ipython3",
   "version": "3.8.3"
  }
 },
 "nbformat": 4,
 "nbformat_minor": 5
}
