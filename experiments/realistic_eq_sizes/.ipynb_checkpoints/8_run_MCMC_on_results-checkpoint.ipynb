{
 "cells": [
  {
   "cell_type": "code",
   "execution_count": 1,
   "id": "de86954a-4373-4d49-80a2-bd5be7548861",
   "metadata": {},
   "outputs": [],
   "source": [
    "from obspy.core import Stream, read\n",
    "import numpy as np\n",
    "from pytensor.compile.ops import as_op\n",
    "import pytensor\n",
    "import pytensor.tensor as pt\n",
    "import matplotlib.pyplot as plt\n",
    "import pandas as pd\n",
    "import os \n",
    "import os.path\n",
    "import pymc as pm\n",
    "import arviz as az"
   ]
  },
  {
   "cell_type": "code",
   "execution_count": 2,
   "id": "1c32a6d4-169e-495d-8642-e2202beaf968",
   "metadata": {},
   "outputs": [],
   "source": [
    "# What exactly are the colunns here? Amplitude of waves at a specific time?\n",
    "# My equivalent = peak strain at a specific time\n",
    "\n",
    "# Build the target function, misfit to this is what is being minimized\n",
    "@as_op(itypes=[pt.dvector,pt.dscalar,pt.dscalar,pt.dscalar,pt.dscalar,pt.dscalar], otypes=[pt.dvector]) # input variable types and output variable type(s)\n",
    "def two_straight_lines(x,m1,m2,xinter,x0,y0):\n",
    "    '''\n",
    "    input x coordiantes are in x\n",
    "    slopes are m1 and m2\n",
    "    intercept of left hand line is b1 \n",
    "    intersection of two lines is at xinter\n",
    "    \n",
    "    Note that y intercept of second straight line is dependent on b1 and xinter\n",
    "      and defined entirely by them (so that the lines touch).\n",
    "    '''\n",
    "    \n",
    "    # Output vector\n",
    "    y_out = np.ones(len(x))\n",
    "    \n",
    "    # Before building the first straight line, calculate the intercept\n",
    "    b1 = y0 - m1*x0\n",
    "    \n",
    "    # Build first straight line segment\n",
    "    y_out = m1*x + b1\n",
    "    \n",
    "    # Find points that are after the intersection and make the second segment\n",
    "    i = np.where(x>xinter)[0]\n",
    "    \n",
    "    # Define second y intercept\n",
    "    b2 = m1*xinter + b1 - m2*xinter\n",
    "    # print(b2)\n",
    "    \n",
    "    # Make second straight line\n",
    "    y_out[i] = m2*x[i] + b2\n",
    "\n",
    "    return y_out\n",
    "\n",
    "# Build the target function, misfit to this is what is being minimized\n",
    "def non_pytensor_two_straight_lines(x,m1,m2,xinter,x0,y0):\n",
    "    '''\n",
    "    input x coordiantes are in x\n",
    "    slopes are m1 and m2\n",
    "    intercept of left hand line is b1 \n",
    "    intersection of two lines is at xinter\n",
    "    \n",
    "    Note that y intercept of second straight line is dependent on b1 and xinter\n",
    "      and defined entirely by them (so that the lines touch).\n",
    "    '''\n",
    "    \n",
    "    # Output vector\n",
    "    yout = np.ones(len(x))\n",
    "    \n",
    "    # Before building the first straight line, calculate the intercept\n",
    "    b1 = y0 - m1*x0\n",
    "    \n",
    "    # Build first straight line segment\n",
    "    yout = m1*x + b1\n",
    "    \n",
    "    # Find points that are after the intersection and make the second segment\n",
    "    i = np.where(x>xinter)[0]\n",
    "    \n",
    "    # Define second y intercept\n",
    "    b2 = m1*xinter + b1 - m2*xinter\n",
    "    \n",
    "    # Make second straight line\n",
    "    yout[i] = m2*x[i] + b2\n",
    "\n",
    "    return yout"
   ]
  },
  {
   "cell_type": "code",
   "execution_count": 30,
   "id": "e6d16c76-6bbb-461b-b76c-9fe67d2147ca",
   "metadata": {},
   "outputs": [
    {
     "name": "stdout",
     "output_type": "stream",
     "text": [
      "[[5.00000000e+00 3.38844156e+00 1.51356125e-02 3.35853594e-01]\n",
      " [6.00000000e+00 1.41253754e+01 1.20226443e-01 9.23953255e-01]\n",
      " [7.00000000e+00 5.88843655e+01 9.54992586e-01 2.54185048e+00]\n",
      " [8.00000000e+00 2.45470892e+02 7.58577575e+00 6.99278217e+00]]\n",
      "['E18', 'E36', 'E54', 'E72', 'E90', 'E108', 'E126', 'E144']\n"
     ]
    }
   ],
   "source": [
    "path = '/Users/sydneydybing/SW4/strain/experiments/realistic_eq_sizes/'\n",
    "\n",
    "rupt_params = np.load(path + 'rupture_params.npy')\n",
    "print(rupt_params)\n",
    "\n",
    "# 0. Mw\n",
    "# 1. Length (km)\n",
    "# 2. Average slip (m)\n",
    "# 3. Rise time (s)\n",
    "\n",
    "# Common hypocenter\n",
    "\n",
    "hypocenter = [-117.6204, 35.7793, 7.5]\n",
    "\n",
    "# Stations\n",
    "stas = pd.read_csv(path + 'stas_w_p_s_traveltimes.csv')\n",
    "stas_sub = ['E144', 'E126', 'E108', 'E90', 'E72', 'E54', 'E36', 'E18']\n",
    "stas_sub.reverse()\n",
    "print(stas_sub)"
   ]
  },
  {
   "cell_type": "code",
   "execution_count": 31,
   "id": "ad241c99-d7c6-4a0c-a801-1e7527dde048",
   "metadata": {},
   "outputs": [
    {
     "data": {
      "text/html": [
       "<div>\n",
       "<style scoped>\n",
       "    .dataframe tbody tr th:only-of-type {\n",
       "        vertical-align: middle;\n",
       "    }\n",
       "\n",
       "    .dataframe tbody tr th {\n",
       "        vertical-align: top;\n",
       "    }\n",
       "\n",
       "    .dataframe thead th {\n",
       "        text-align: right;\n",
       "    }\n",
       "</style>\n",
       "<table border=\"1\" class=\"dataframe\">\n",
       "  <thead>\n",
       "    <tr style=\"text-align: right;\">\n",
       "      <th></th>\n",
       "      <th>name</th>\n",
       "      <th>lon</th>\n",
       "      <th>lat</th>\n",
       "      <th>hypo_dist_km</th>\n",
       "      <th>p_arrival</th>\n",
       "      <th>s_arrival</th>\n",
       "    </tr>\n",
       "  </thead>\n",
       "  <tbody>\n",
       "    <tr>\n",
       "      <th>0</th>\n",
       "      <td>E1</td>\n",
       "      <td>-118.5</td>\n",
       "      <td>35.0</td>\n",
       "      <td>117.735516</td>\n",
       "      <td>19.484985</td>\n",
       "      <td>33.835013</td>\n",
       "    </tr>\n",
       "    <tr>\n",
       "      <th>1</th>\n",
       "      <td>E2</td>\n",
       "      <td>-118.5</td>\n",
       "      <td>35.1</td>\n",
       "      <td>109.811069</td>\n",
       "      <td>18.258040</td>\n",
       "      <td>31.667682</td>\n",
       "    </tr>\n",
       "    <tr>\n",
       "      <th>2</th>\n",
       "      <td>E3</td>\n",
       "      <td>-118.5</td>\n",
       "      <td>35.2</td>\n",
       "      <td>102.476405</td>\n",
       "      <td>17.099509</td>\n",
       "      <td>29.636367</td>\n",
       "    </tr>\n",
       "    <tr>\n",
       "      <th>3</th>\n",
       "      <td>E4</td>\n",
       "      <td>-118.5</td>\n",
       "      <td>35.3</td>\n",
       "      <td>95.867056</td>\n",
       "      <td>16.055540</td>\n",
       "      <td>27.802686</td>\n",
       "    </tr>\n",
       "    <tr>\n",
       "      <th>4</th>\n",
       "      <td>E5</td>\n",
       "      <td>-118.5</td>\n",
       "      <td>35.4</td>\n",
       "      <td>90.142773</td>\n",
       "      <td>15.151369</td>\n",
       "      <td>26.214599</td>\n",
       "    </tr>\n",
       "    <tr>\n",
       "      <th>...</th>\n",
       "      <td>...</td>\n",
       "      <td>...</td>\n",
       "      <td>...</td>\n",
       "      <td>...</td>\n",
       "      <td>...</td>\n",
       "      <td>...</td>\n",
       "    </tr>\n",
       "    <tr>\n",
       "      <th>318</th>\n",
       "      <td>E319</td>\n",
       "      <td>-116.7</td>\n",
       "      <td>36.2</td>\n",
       "      <td>95.223479</td>\n",
       "      <td>15.953885</td>\n",
       "      <td>27.624136</td>\n",
       "    </tr>\n",
       "    <tr>\n",
       "      <th>319</th>\n",
       "      <td>E320</td>\n",
       "      <td>-116.7</td>\n",
       "      <td>36.3</td>\n",
       "      <td>101.083463</td>\n",
       "      <td>16.879489</td>\n",
       "      <td>29.249912</td>\n",
       "    </tr>\n",
       "    <tr>\n",
       "      <th>320</th>\n",
       "      <td>E321</td>\n",
       "      <td>-116.7</td>\n",
       "      <td>36.4</td>\n",
       "      <td>107.770552</td>\n",
       "      <td>17.935735</td>\n",
       "      <td>31.105169</td>\n",
       "    </tr>\n",
       "    <tr>\n",
       "      <th>321</th>\n",
       "      <td>E322</td>\n",
       "      <td>-116.7</td>\n",
       "      <td>36.5</td>\n",
       "      <td>115.140783</td>\n",
       "      <td>19.089840</td>\n",
       "      <td>33.125357</td>\n",
       "    </tr>\n",
       "    <tr>\n",
       "      <th>322</th>\n",
       "      <td>E323</td>\n",
       "      <td>-116.7</td>\n",
       "      <td>36.6</td>\n",
       "      <td>123.071535</td>\n",
       "      <td>20.297591</td>\n",
       "      <td>35.294405</td>\n",
       "    </tr>\n",
       "  </tbody>\n",
       "</table>\n",
       "<p>323 rows × 6 columns</p>\n",
       "</div>"
      ],
      "text/plain": [
       "     name    lon   lat  hypo_dist_km  p_arrival  s_arrival\n",
       "0      E1 -118.5  35.0    117.735516  19.484985  33.835013\n",
       "1      E2 -118.5  35.1    109.811069  18.258040  31.667682\n",
       "2      E3 -118.5  35.2    102.476405  17.099509  29.636367\n",
       "3      E4 -118.5  35.3     95.867056  16.055540  27.802686\n",
       "4      E5 -118.5  35.4     90.142773  15.151369  26.214599\n",
       "..    ...    ...   ...           ...        ...        ...\n",
       "318  E319 -116.7  36.2     95.223479  15.953885  27.624136\n",
       "319  E320 -116.7  36.3    101.083463  16.879489  29.249912\n",
       "320  E321 -116.7  36.4    107.770552  17.935735  31.105169\n",
       "321  E322 -116.7  36.5    115.140783  19.089840  33.125357\n",
       "322  E323 -116.7  36.6    123.071535  20.297591  35.294405\n",
       "\n",
       "[323 rows x 6 columns]"
      ]
     },
     "execution_count": 31,
     "metadata": {},
     "output_type": "execute_result"
    }
   ],
   "source": [
    "stas"
   ]
  },
  {
   "cell_type": "code",
   "execution_count": 32,
   "id": "401c4b75-5f06-462c-9ac4-f37b4ba07429",
   "metadata": {},
   "outputs": [],
   "source": [
    "def get_xhigh(evt_id, sta):\n",
    "    \n",
    "    if sta == 'E144':\n",
    "        if evt_id == 'M5' or evt_id == 'M6':\n",
    "            xlim_high = 4\n",
    "        elif evt_id == 'M7':\n",
    "            xlim_high = 5\n",
    "        else:\n",
    "            xlim_high = 6\n",
    "    elif sta == 'E126':\n",
    "        if evt_id == 'M5' or evt_id == 'M6':\n",
    "            xlim_high = 7\n",
    "        elif evt_id == 'M7':\n",
    "            xlim_high = 8\n",
    "        else:\n",
    "            xlim_high = 10\n",
    "    elif sta == 'E108':\n",
    "        if evt_id == 'M5' or evt_id == 'M6':\n",
    "            xlim_high = 10\n",
    "        elif evt_id == 'M7':\n",
    "            xlim_high = 12\n",
    "        else:\n",
    "            xlim_high = 13\n",
    "    elif sta == 'E90':\n",
    "        if evt_id == 'M5' or evt_id == 'M6':\n",
    "            xlim_high = 12\n",
    "        elif evt_id == 'M7':\n",
    "            xlim_high = 14\n",
    "        else:\n",
    "            xlim_high = 17\n",
    "    elif sta == 'E72':\n",
    "        if evt_id == 'M5' or evt_id == 'M6':\n",
    "            xlim_high = 15\n",
    "        elif evt_id == 'M7':\n",
    "            xlim_high = 19\n",
    "        else:\n",
    "            xlim_high = 20\n",
    "    elif sta == 'E54':\n",
    "        if evt_id == 'M5' or evt_id == 'M6':\n",
    "            xlim_high = 19\n",
    "        elif evt_id == 'M7':\n",
    "            xlim_high = 22\n",
    "        else:\n",
    "            xlim_high = 24\n",
    "    elif sta == 'E36':\n",
    "        if evt_id == 'M5' or evt_id == 'M6':\n",
    "            xlim_high = 20\n",
    "        elif evt_id == 'M7':\n",
    "            xlim_high = 24\n",
    "        else:\n",
    "            xlim_high = 26\n",
    "    elif sta == 'E18':\n",
    "        if evt_id == 'M5' or evt_id == 'M6':\n",
    "            xlim_high = 25\n",
    "        elif evt_id == 'M7':\n",
    "            xlim_high = 25\n",
    "        else:\n",
    "            xlim_high = 30\n",
    "    else:\n",
    "        print('error')\n",
    "    return xlim_high"
   ]
  },
  {
   "cell_type": "code",
   "execution_count": null,
   "id": "d5ee9de8-98c4-4000-bcbf-6d0bde416626",
   "metadata": {},
   "outputs": [
    {
     "name": "stdout",
     "output_type": "stream",
     "text": [
      "M5\n",
      "M6\n",
      "M7\n",
      "M8\n",
      "18.5671978329\n",
      "111.768348043\n",
      "Processing E18\n",
      "9.583333333333334\n"
     ]
    },
    {
     "name": "stderr",
     "output_type": "stream",
     "text": [
      "Sequential sampling (4 chains in 1 job)\n",
      "CompoundStep\n",
      ">Metropolis: [m1]\n",
      ">Metropolis: [m2]\n",
      ">Metropolis: [xinter]\n",
      ">Metropolis: [sigma]\n"
     ]
    },
    {
     "data": {
      "text/html": [
       "\n",
       "<style>\n",
       "    /* Turns off some styling */\n",
       "    progress {\n",
       "        /* gets rid of default border in Firefox and Opera. */\n",
       "        border: none;\n",
       "        /* Needs to be in here for Safari polyfill so background images work as expected. */\n",
       "        background-size: auto;\n",
       "    }\n",
       "    progress:not([value]), progress:not([value])::-webkit-progress-bar {\n",
       "        background: repeating-linear-gradient(45deg, #7e7e7e, #7e7e7e 10px, #5c5c5c 10px, #5c5c5c 20px);\n",
       "    }\n",
       "    .progress-bar-interrupted, .progress-bar-interrupted::-webkit-progress-bar {\n",
       "        background: #F44336;\n",
       "    }\n",
       "</style>\n"
      ],
      "text/plain": [
       "<IPython.core.display.HTML object>"
      ]
     },
     "metadata": {},
     "output_type": "display_data"
    },
    {
     "data": {
      "text/html": [
       "\n",
       "    <div>\n",
       "      <progress value='20000' class='' max='20000' style='width:300px; height:20px; vertical-align: middle;'></progress>\n",
       "      100.00% [20000/20000 00:37&lt;00:00 Sampling chain 0, 0 divergences]\n",
       "    </div>\n",
       "    "
      ],
      "text/plain": [
       "<IPython.core.display.HTML object>"
      ]
     },
     "metadata": {},
     "output_type": "display_data"
    },
    {
     "name": "stderr",
     "output_type": "stream",
     "text": [
      "/Users/sydneydybing/opt/anaconda3/envs/pymc_env/lib/python3.11/site-packages/pymc/step_methods/metropolis.py:285: RuntimeWarning: overflow encountered in exp\n",
      "  \"accept\": np.mean(np.exp(self.accept_rate_iter)),\n"
     ]
    },
    {
     "data": {
      "text/html": [
       "\n",
       "<style>\n",
       "    /* Turns off some styling */\n",
       "    progress {\n",
       "        /* gets rid of default border in Firefox and Opera. */\n",
       "        border: none;\n",
       "        /* Needs to be in here for Safari polyfill so background images work as expected. */\n",
       "        background-size: auto;\n",
       "    }\n",
       "    progress:not([value]), progress:not([value])::-webkit-progress-bar {\n",
       "        background: repeating-linear-gradient(45deg, #7e7e7e, #7e7e7e 10px, #5c5c5c 10px, #5c5c5c 20px);\n",
       "    }\n",
       "    .progress-bar-interrupted, .progress-bar-interrupted::-webkit-progress-bar {\n",
       "        background: #F44336;\n",
       "    }\n",
       "</style>\n"
      ],
      "text/plain": [
       "<IPython.core.display.HTML object>"
      ]
     },
     "metadata": {},
     "output_type": "display_data"
    },
    {
     "data": {
      "text/html": [
       "\n",
       "    <div>\n",
       "      <progress value='20000' class='' max='20000' style='width:300px; height:20px; vertical-align: middle;'></progress>\n",
       "      100.00% [20000/20000 00:34&lt;00:00 Sampling chain 1, 0 divergences]\n",
       "    </div>\n",
       "    "
      ],
      "text/plain": [
       "<IPython.core.display.HTML object>"
      ]
     },
     "metadata": {},
     "output_type": "display_data"
    },
    {
     "data": {
      "text/html": [
       "\n",
       "<style>\n",
       "    /* Turns off some styling */\n",
       "    progress {\n",
       "        /* gets rid of default border in Firefox and Opera. */\n",
       "        border: none;\n",
       "        /* Needs to be in here for Safari polyfill so background images work as expected. */\n",
       "        background-size: auto;\n",
       "    }\n",
       "    progress:not([value]), progress:not([value])::-webkit-progress-bar {\n",
       "        background: repeating-linear-gradient(45deg, #7e7e7e, #7e7e7e 10px, #5c5c5c 10px, #5c5c5c 20px);\n",
       "    }\n",
       "    .progress-bar-interrupted, .progress-bar-interrupted::-webkit-progress-bar {\n",
       "        background: #F44336;\n",
       "    }\n",
       "</style>\n"
      ],
      "text/plain": [
       "<IPython.core.display.HTML object>"
      ]
     },
     "metadata": {},
     "output_type": "display_data"
    },
    {
     "data": {
      "text/html": [
       "\n",
       "    <div>\n",
       "      <progress value='20000' class='' max='20000' style='width:300px; height:20px; vertical-align: middle;'></progress>\n",
       "      100.00% [20000/20000 00:34&lt;00:00 Sampling chain 2, 0 divergences]\n",
       "    </div>\n",
       "    "
      ],
      "text/plain": [
       "<IPython.core.display.HTML object>"
      ]
     },
     "metadata": {},
     "output_type": "display_data"
    },
    {
     "data": {
      "text/html": [
       "\n",
       "<style>\n",
       "    /* Turns off some styling */\n",
       "    progress {\n",
       "        /* gets rid of default border in Firefox and Opera. */\n",
       "        border: none;\n",
       "        /* Needs to be in here for Safari polyfill so background images work as expected. */\n",
       "        background-size: auto;\n",
       "    }\n",
       "    progress:not([value]), progress:not([value])::-webkit-progress-bar {\n",
       "        background: repeating-linear-gradient(45deg, #7e7e7e, #7e7e7e 10px, #5c5c5c 10px, #5c5c5c 20px);\n",
       "    }\n",
       "    .progress-bar-interrupted, .progress-bar-interrupted::-webkit-progress-bar {\n",
       "        background: #F44336;\n",
       "    }\n",
       "</style>\n"
      ],
      "text/plain": [
       "<IPython.core.display.HTML object>"
      ]
     },
     "metadata": {},
     "output_type": "display_data"
    },
    {
     "data": {
      "text/html": [
       "\n",
       "    <div>\n",
       "      <progress value='20000' class='' max='20000' style='width:300px; height:20px; vertical-align: middle;'></progress>\n",
       "      100.00% [20000/20000 00:34&lt;00:00 Sampling chain 3, 0 divergences]\n",
       "    </div>\n",
       "    "
      ],
      "text/plain": [
       "<IPython.core.display.HTML object>"
      ]
     },
     "metadata": {},
     "output_type": "display_data"
    },
    {
     "name": "stderr",
     "output_type": "stream",
     "text": [
      "Sampling 4 chains for 5_000 tune and 15_000 draw iterations (20_000 + 60_000 draws total) took 142 seconds.\n",
      "The rhat statistic is larger than 1.01 for some parameters. This indicates problems during sampling. See https://arxiv.org/abs/1903.08008 for details\n",
      "The effective sample size per chain is smaller than 100 for some parameters.  A higher number is needed for reliable rhat and ess computation. See https://arxiv.org/abs/1903.08008 for details\n"
     ]
    },
    {
     "data": {
      "image/png": "[encoded data removed]",
      "text/plain": [
       "<Figure size 640x480 with 1 Axes>"
      ]
     },
     "metadata": {},
     "output_type": "display_data"
    },
    {
     "name": "stdout",
     "output_type": "stream",
     "text": [
      "          mean     sd  hdi_3%  hdi_97%  mcse_mean  mcse_sd  ess_bulk  \\\n",
      "m1       0.901  0.028   0.852    0.956      0.005    0.003      34.0   \n",
      "m2       0.067  0.004   0.058    0.075      0.000    0.000      78.0   \n",
      "xinter  20.518  0.082  20.362   20.672      0.015    0.011      28.0   \n",
      "sigma    0.101  0.007   0.088    0.114      0.000    0.000    8275.0   \n",
      "\n",
      "        ess_tail  r_hat  \n",
      "m1          72.0   1.11  \n",
      "m2         522.0   1.05  \n",
      "xinter      50.0   1.12  \n",
      "sigma    12432.0   1.00  \n",
      "16.2984552166\n",
      "97.4049469573\n",
      "Processing E36\n",
      "9.583333333333334\n"
     ]
    },
    {
     "name": "stderr",
     "output_type": "stream",
     "text": [
      "Sequential sampling (4 chains in 1 job)\n",
      "CompoundStep\n",
      ">Metropolis: [m1]\n",
      ">Metropolis: [m2]\n",
      ">Metropolis: [xinter]\n",
      ">Metropolis: [sigma]\n"
     ]
    },
    {
     "data": {
      "text/html": [
       "\n",
       "<style>\n",
       "    /* Turns off some styling */\n",
       "    progress {\n",
       "        /* gets rid of default border in Firefox and Opera. */\n",
       "        border: none;\n",
       "        /* Needs to be in here for Safari polyfill so background images work as expected. */\n",
       "        background-size: auto;\n",
       "    }\n",
       "    progress:not([value]), progress:not([value])::-webkit-progress-bar {\n",
       "        background: repeating-linear-gradient(45deg, #7e7e7e, #7e7e7e 10px, #5c5c5c 10px, #5c5c5c 20px);\n",
       "    }\n",
       "    .progress-bar-interrupted, .progress-bar-interrupted::-webkit-progress-bar {\n",
       "        background: #F44336;\n",
       "    }\n",
       "</style>\n"
      ],
      "text/plain": [
       "<IPython.core.display.HTML object>"
      ]
     },
     "metadata": {},
     "output_type": "display_data"
    },
    {
     "data": {
      "text/html": [
       "\n",
       "    <div>\n",
       "      <progress value='20000' class='' max='20000' style='width:300px; height:20px; vertical-align: middle;'></progress>\n",
       "      100.00% [20000/20000 00:41&lt;00:00 Sampling chain 0, 0 divergences]\n",
       "    </div>\n",
       "    "
      ],
      "text/plain": [
       "<IPython.core.display.HTML object>"
      ]
     },
     "metadata": {},
     "output_type": "display_data"
    },
    {
     "name": "stderr",
     "output_type": "stream",
     "text": [
      "/Users/sydneydybing/opt/anaconda3/envs/pymc_env/lib/python3.11/site-packages/pymc/step_methods/metropolis.py:285: RuntimeWarning: overflow encountered in exp\n",
      "  \"accept\": np.mean(np.exp(self.accept_rate_iter)),\n"
     ]
    },
    {
     "data": {
      "text/html": [
       "\n",
       "<style>\n",
       "    /* Turns off some styling */\n",
       "    progress {\n",
       "        /* gets rid of default border in Firefox and Opera. */\n",
       "        border: none;\n",
       "        /* Needs to be in here for Safari polyfill so background images work as expected. */\n",
       "        background-size: auto;\n",
       "    }\n",
       "    progress:not([value]), progress:not([value])::-webkit-progress-bar {\n",
       "        background: repeating-linear-gradient(45deg, #7e7e7e, #7e7e7e 10px, #5c5c5c 10px, #5c5c5c 20px);\n",
       "    }\n",
       "    .progress-bar-interrupted, .progress-bar-interrupted::-webkit-progress-bar {\n",
       "        background: #F44336;\n",
       "    }\n",
       "</style>\n"
      ],
      "text/plain": [
       "<IPython.core.display.HTML object>"
      ]
     },
     "metadata": {},
     "output_type": "display_data"
    },
    {
     "data": {
      "text/html": [
       "\n",
       "    <div>\n",
       "      <progress value='20000' class='' max='20000' style='width:300px; height:20px; vertical-align: middle;'></progress>\n",
       "      100.00% [20000/20000 00:36&lt;00:00 Sampling chain 1, 0 divergences]\n",
       "    </div>\n",
       "    "
      ],
      "text/plain": [
       "<IPython.core.display.HTML object>"
      ]
     },
     "metadata": {},
     "output_type": "display_data"
    },
    {
     "data": {
      "text/html": [
       "\n",
       "<style>\n",
       "    /* Turns off some styling */\n",
       "    progress {\n",
       "        /* gets rid of default border in Firefox and Opera. */\n",
       "        border: none;\n",
       "        /* Needs to be in here for Safari polyfill so background images work as expected. */\n",
       "        background-size: auto;\n",
       "    }\n",
       "    progress:not([value]), progress:not([value])::-webkit-progress-bar {\n",
       "        background: repeating-linear-gradient(45deg, #7e7e7e, #7e7e7e 10px, #5c5c5c 10px, #5c5c5c 20px);\n",
       "    }\n",
       "    .progress-bar-interrupted, .progress-bar-interrupted::-webkit-progress-bar {\n",
       "        background: #F44336;\n",
       "    }\n",
       "</style>\n"
      ],
      "text/plain": [
       "<IPython.core.display.HTML object>"
      ]
     },
     "metadata": {},
     "output_type": "display_data"
    },
    {
     "data": {
      "text/html": [
       "\n",
       "    <div>\n",
       "      <progress value='20000' class='' max='20000' style='width:300px; height:20px; vertical-align: middle;'></progress>\n",
       "      100.00% [20000/20000 00:35&lt;00:00 Sampling chain 2, 0 divergences]\n",
       "    </div>\n",
       "    "
      ],
      "text/plain": [
       "<IPython.core.display.HTML object>"
      ]
     },
     "metadata": {},
     "output_type": "display_data"
    },
    {
     "data": {
      "text/html": [
       "\n",
       "<style>\n",
       "    /* Turns off some styling */\n",
       "    progress {\n",
       "        /* gets rid of default border in Firefox and Opera. */\n",
       "        border: none;\n",
       "        /* Needs to be in here for Safari polyfill so background images work as expected. */\n",
       "        background-size: auto;\n",
       "    }\n",
       "    progress:not([value]), progress:not([value])::-webkit-progress-bar {\n",
       "        background: repeating-linear-gradient(45deg, #7e7e7e, #7e7e7e 10px, #5c5c5c 10px, #5c5c5c 20px);\n",
       "    }\n",
       "    .progress-bar-interrupted, .progress-bar-interrupted::-webkit-progress-bar {\n",
       "        background: #F44336;\n",
       "    }\n",
       "</style>\n"
      ],
      "text/plain": [
       "<IPython.core.display.HTML object>"
      ]
     },
     "metadata": {},
     "output_type": "display_data"
    },
    {
     "data": {
      "text/html": [
       "\n",
       "    <div>\n",
       "      <progress value='20000' class='' max='20000' style='width:300px; height:20px; vertical-align: middle;'></progress>\n",
       "      100.00% [20000/20000 00:38&lt;00:00 Sampling chain 3, 0 divergences]\n",
       "    </div>\n",
       "    "
      ],
      "text/plain": [
       "<IPython.core.display.HTML object>"
      ]
     },
     "metadata": {},
     "output_type": "display_data"
    },
    {
     "name": "stderr",
     "output_type": "stream",
     "text": [
      "Sampling 4 chains for 5_000 tune and 15_000 draw iterations (20_000 + 60_000 draws total) took 152 seconds.\n",
      "The rhat statistic is larger than 1.01 for some parameters. This indicates problems during sampling. See https://arxiv.org/abs/1903.08008 for details\n",
      "The effective sample size per chain is smaller than 100 for some parameters.  A higher number is needed for reliable rhat and ess computation. See https://arxiv.org/abs/1903.08008 for details\n"
     ]
    },
    {
     "data": {
      "image/png": "[encoded data removed]",
      "text/plain": [
       "<Figure size 640x480 with 1 Axes>"
      ]
     },
     "metadata": {},
     "output_type": "display_data"
    },
    {
     "name": "stdout",
     "output_type": "stream",
     "text": [
      "          mean     sd  hdi_3%  hdi_97%  mcse_mean  mcse_sd  ess_bulk  \\\n",
      "m1       1.215  0.073   1.062    1.349      0.020    0.014      14.0   \n",
      "m2       0.092  0.008   0.076    0.106      0.001    0.001      36.0   \n",
      "xinter  17.878  0.129  17.651   18.163      0.035    0.025      13.0   \n",
      "sigma    0.129  0.010   0.112    0.148      0.000    0.000    9261.0   \n",
      "\n",
      "        ess_tail  r_hat  \n",
      "m1          60.0   1.25  \n",
      "m2         129.0   1.10  \n",
      "xinter      37.0   1.25  \n",
      "sigma    10588.0   1.00  \n",
      "14.0143244145\n",
      "83.0484102491\n",
      "Processing E54\n",
      "9.583333333333334\n"
     ]
    }
   ],
   "source": [
    "events_list = []\n",
    "mags_list = []\n",
    "stas_list = []\n",
    "hypdist_list = []\n",
    "xhighs_list = []\n",
    "m1s_list = []\n",
    "m2s_list = []\n",
    "xinters_list = []\n",
    "sigmas_list = []\n",
    "trans_time_list = []\n",
    "\n",
    "# for ii in range(len(events)):\n",
    "for ii in range(len(rupt_params)):\n",
    "    \n",
    "    evt_id = 'M' + str(int(rupt_params[ii,0]))\n",
    "    mag = int(rupt_params[ii,0])\n",
    "    print(evt_id)\n",
    "    if evt_id == 'M8':\n",
    "        pass\n",
    "    else:\n",
    "        continue\n",
    "\n",
    "    # for idx in range(len(snr_array)):\n",
    "    for idx in range(len(stas_sub)):\n",
    "\n",
    "        # sta = snr_array['Sta'][idx]\n",
    "        sta = stas_sub[idx]\n",
    "        \n",
    "        # Figure out the bounds for the MCMC based on the event and hypocentral distance (rainbow plots)\n",
    "        i = np.where(stas.name.values == sta)[0]\n",
    "        theo_p_arr = stas.p_arrival.values[i][0]\n",
    "        print(theo_p_arr)\n",
    "        \n",
    "        xlow = theo_p_arr\n",
    "        xhigh = get_xhigh(evt_id, sta)\n",
    "        \n",
    "        i = np.where(stas.name.values == sta)[0]\n",
    "        hypdist = stas.hypo_dist_km.values[i][0]\n",
    "        print(hypdist)\n",
    "        int_hypdist = int(hypdist)\n",
    "        \n",
    "        both_peak_strain = np.load(path + 'npys_for_mcmc/' + evt_id + '/peak_strain/' + sta + '.npy')\n",
    "        # both_norm_peak_strain = np.load(path + 'npys_for_mcmc/M' + evt_id + '/norm_peak_strain/' + sta + '.npy')\n",
    "        \n",
    "        print('Processing ' + str(sta))\n",
    "        \n",
    "        times = both_peak_strain[:,0]\n",
    "        data = both_peak_strain[:,1]\n",
    "        log10_data = np.log10(data)\n",
    "        \n",
    "        max_time = max(times)\n",
    "        npts = len(times)\n",
    "        samp_rate = npts / max_time\n",
    "        print(samp_rate)\n",
    "        \n",
    "        vec_start = int(xlow*samp_rate)\n",
    "        vec_end = int(xhigh*samp_rate)\n",
    "\n",
    "        # Split into x and y vectors\n",
    "        xobserved = times[vec_start:vec_end]\n",
    "        yobserved = log10_data[vec_start:vec_end]\n",
    "        x0 = xobserved[0]\n",
    "        y0 = yobserved[0]\n",
    "        \n",
    "        # in order to pass the x variable into the target function it needs to be \n",
    "        # converted to a Theano \"shared\" variable\n",
    "        pt_xobserved = pytensor.shared(xobserved)\n",
    "        pt_x0 = pytensor.shared(x0)\n",
    "        pt_y0 = pytensor.shared(y0)\n",
    "            \n",
    "        # MCMC run parameters, these are good numbers for a \"production\" run. If you are\n",
    "        # fooling arund these can be lower to iterate faster\n",
    "        Nburn = 5000 # burn in samples that get discarded\n",
    "        Nmcmc = 15000 # bump to at least 5-10k\n",
    "        Nchains = 4\n",
    "        Ncores = 1\n",
    "        \n",
    "        # Bounds for the prior distributions\n",
    "        m1_low = -1; m1_high = 20\n",
    "        m2_low = -1; m2_high = 3\n",
    "        xinter_low = theo_p_arr ; xinter_high = 25 # location of the line slope change\n",
    "        \n",
    "        # Define the Bayesian model\n",
    "        with pm.Model()as model:\n",
    "            \n",
    "            # Use normal distributions as priors\n",
    "            m1 = pm.Uniform('m1', lower = m1_low, upper = m1_high)\n",
    "            m2 = pm.Uniform('m2', lower = m2_low, upper = m2_high)\n",
    "            # m1 = pm.Normal('m1', mu = 0.5, sigma = 1)\n",
    "            # m2 = pm.Normal('m2', mu = -0.1, sigma = 5)\n",
    "            xinter = pm.Uniform('xinter', lower = xinter_low, upper = xinter_high)\n",
    "            sigma = pm.HalfCauchy('sigma', beta = 10, initval = 1)\n",
    "        \n",
    "            # This is the model\n",
    "            likelihood = pm.Normal('y', mu = two_straight_lines(pt_xobserved,m1,m2,xinter,pt_x0,pt_y0),\n",
    "                                    observed = yobserved, sigma = sigma)\n",
    "\n",
    "            # NUTS sampler (default) is gradient based and won't work, use metropolis\n",
    "            step = pm.Metropolis(scaling = 0.1)\n",
    "            \n",
    "            # This runs the mcmc sampler\n",
    "            mcmc = pm.sample(Nmcmc, tune = Nburn, chains = Nchains, cores = Ncores, step = step)\n",
    "        \n",
    "        # Done, now is post-processing to get the data out of the sampler\n",
    "\n",
    "        posterior = az.extract(mcmc)\n",
    "        \n",
    "        # Unwrap coeficients - WRITE LINES TO SAVE THE ARRAYS!!!\n",
    "        m1_array = posterior.m1.values\n",
    "        m1 = np.mean(m1_array)\n",
    "        # print('m1 mean: ' + str(round(m1,2)))\n",
    "        \n",
    "        m2_array = posterior.m2.values\n",
    "        m2 = np.mean(m2_array)\n",
    "        # print('m2 mean: ' + str(round(m2,2)))\n",
    "        \n",
    "        xinter_array = posterior.xinter.values\n",
    "        xinter = np.mean(xinter_array)\n",
    "        # print('xinter Mean: ' + str(round(xinter,2)))\n",
    "        \n",
    "        sigma_array = posterior.sigma.values\n",
    "        sigma = np.mean(sigma_array)\n",
    "\n",
    "        # Lines!\n",
    "        b1 = y0 - m1*x0\n",
    "        b2 = m1*xinter + b1 - m2*xinter\n",
    "        \n",
    "        # Make plot to check stuff\n",
    "        xpredicted = np.arange(xobserved.min(), xobserved.max()+0.1, 0.1)\n",
    "        ypredicted = m1*xpredicted + b1\n",
    "        i = np.where(xpredicted > xinter)[0]\n",
    "        ypredicted[i] = m2*xpredicted[i] + b2\n",
    "        \n",
    "        plt.plot(xobserved, yobserved)\n",
    "        plt.plot(xpredicted, ypredicted)\n",
    "        plt.show()\n",
    "        \n",
    "        # Get one-sigma region (need to obtain a ton of forward models and get stats)\n",
    "        N = len(posterior.m1.values)\n",
    "        \n",
    "        yfit = np.zeros((len(xpredicted), N))\n",
    "        for k in range(N):\n",
    "            yfit[:,k] = non_pytensor_two_straight_lines(xpredicted,m1_array[k],m2_array[k],xinter_array[k],x0,y0)\n",
    "        mu = yfit.mean(1)\n",
    "        sig = yfit.std(1) * 1.95 #for 95% confidence\n",
    "        mu_plus = mu + sig\n",
    "        mu_minus = mu - sig\n",
    "        \n",
    "        # Least squares\n",
    "        mls, bls = np.polyfit(xobserved, yobserved, 1)\n",
    "        \n",
    "        # Find the transition point in ypredicted\n",
    "        diff = np.round(np.diff(ypredicted), decimals = 5)\n",
    "        # print(diff)\n",
    "        first_slope = diff[0]\n",
    "        second_slope = diff[-1]\n",
    "        try:\n",
    "            trans_idx = np.where((diff != first_slope) & (diff != second_slope))[0][0] + 1\n",
    "        except:\n",
    "            trans_idx = np.where(diff == first_slope)[0][0] + 1\n",
    "        \n",
    "        # Get the transition point\n",
    "        mcmc_trans_x = xpredicted[trans_idx] # Number\n",
    "        mcmc_trans_y = ypredicted[trans_idx]\n",
    "        \n",
    "        # Append things\n",
    "        events_list.append(evt_id)\n",
    "        mags_list.append(mag)\n",
    "        stas_list.append(sta)\n",
    "        hypdist_list.append(int_hypdist)\n",
    "        xhighs_list.append(xhigh)\n",
    "        m1s_list.append(m1)\n",
    "        m2s_list.append(m2)\n",
    "        xinters_list.append(xinter)\n",
    "        sigmas_list.append(sigma)\n",
    "        trans_time_list.append(mcmc_trans_x)\n",
    "        \n",
    "        # Create folder for the event\n",
    "        array_save_dir = path + 'mcmc_arrays/' + evt_id + '/' + sta + '/'\n",
    "        if os.path.isdir(array_save_dir):\n",
    "            pass\n",
    "        else:\n",
    "            os.makedirs(array_save_dir)\n",
    "\n",
    "        np.save(array_save_dir + 'xobserved.npy', xobserved)\n",
    "        np.save(array_save_dir + 'yobserved.npy', yobserved)\n",
    "        np.save(array_save_dir + 'xpredicted.npy', xpredicted)\n",
    "        np.save(array_save_dir + 'ypredicted.npy', ypredicted)\n",
    "        np.save(array_save_dir + 'forward_mus.npy', mu)\n",
    "        np.save(array_save_dir + 'foward_sigs.npy', sig)\n",
    "        \n",
    "        summary = az.summary(mcmc, fmt = 'wide')\n",
    "        print(summary)\n",
    "        summary.to_csv(array_save_dir + 'mcmc_summary.csv', index = False)\n",
    "        \n",
    "        # Folder for figures\n",
    "        fig_save_dir = path + 'mcmc_plots/' + evt_id + '/'\n",
    "        if os.path.isdir(fig_save_dir):\n",
    "            pass\n",
    "        else:\n",
    "            os.makedirs(fig_save_dir)\n",
    "        \n",
    "        az.plot_trace(mcmc)\n",
    "        # plt.show()\n",
    "        plt.savefig(fig_save_dir + sta + '_stats_plots.png', format = 'PNG')\n",
    "        plt.close()\n",
    "\n",
    "        # Plot all solutions\n",
    "        fig = plt.figure(dpi = 100)\n",
    "        ax = fig.add_subplot(111)\n",
    "        ax.set_title(str(sta))\n",
    "        \n",
    "        ax.plot(xobserved, yobserved, color = 'blue', label = 'Observed (log peak strain)')\n",
    "        ax.plot(xpredicted, ypredicted, color = 'red', label = 'Predicted (MCMC)')\n",
    "        # ax.plot(xpredicted, mu, color = 'green', linestyle = '--', label = 'yfit')\n",
    "        # ax.plot(xpredicted, xpredicted * mls + bls, color = 'orange', label = 'np.polyfit least squares')\n",
    "        ax.scatter(xpredicted[trans_idx], ypredicted[trans_idx], marker = 'o', color = 'black', label = 'Transition at ' + str(round(xpredicted[trans_idx],2)) + ' sec')\n",
    "        # ax.scatter(closest_trans_x, closest_trans_y, marker = 'o', color = 'green', label = 'Adjusted transition at ' + str(round(closest_trans_x,2)) + ' sec')\n",
    "        # ax2 = ax.twinx()\n",
    "        # ax2.plot(xobserved, pythags_arr, color = 'violet')\n",
    "        # ax2.axhline(closest_trans_x, color = 'violet', linestyle = '--')\n",
    "        ax.fill_between(xpredicted, mu_plus, mu_minus, color = 'gray', alpha = 0.2, label = '95% confidence') # 95% confidence interval\n",
    "        ax.set_xlabel('Time (s) - p-wave at 10s')\n",
    "        ax.set_ylabel('log10 of peak strain')\n",
    "        # ax.set_xlim(10,13)\n",
    "        ax.legend()\n",
    "        \n",
    "        # plt.show()\n",
    "            \n",
    "        plt.savefig(fig_save_dir + sta + '.png', format = 'PNG')\n",
    "        plt.close()"
   ]
  },
  {
   "cell_type": "code",
   "execution_count": null,
   "id": "85f67d69-0276-4fc2-87aa-3c634b154371",
   "metadata": {},
   "outputs": [],
   "source": []
  }
 ],
 "metadata": {
  "kernelspec": {
   "display_name": "pymc_env",
   "language": "python",
   "name": "pymc_env"
  },
  "language_info": {
   "codemirror_mode": {
    "name": "ipython",
    "version": 3
   },
   "file_extension": ".py",
   "mimetype": "text/x-python",
   "name": "python",
   "nbconvert_exporter": "python",
   "pygments_lexer": "ipython3",
   "version": "3.11.8"
  }
 },
 "nbformat": 4,
 "nbformat_minor": 5
}
