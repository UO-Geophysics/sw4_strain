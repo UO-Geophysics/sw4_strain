{
 "cells": [
  {
   "cell_type": "code",
   "execution_count": 1,
   "id": "598eda27-051b-47cf-84ee-e37c9d59e11a",
   "metadata": {},
   "outputs": [],
   "source": [
    "from mudpy import forward\n",
    "import numpy as np\n",
    "import os"
   ]
  },
  {
   "cell_type": "code",
   "execution_count": 4,
   "id": "bdf5d54f-6f4d-45ae-a13c-e033a66fa0ad",
   "metadata": {},
   "outputs": [
    {
     "name": "stdout",
     "output_type": "stream",
     "text": [
      "['fq_M5.000000_homo.rupt', 'fq_M6.000000_homo.rupt', 'fq_M8.000000_homo.rupt', 'fq_M7.000000_homo.rupt']\n"
     ]
    }
   ],
   "source": [
    "# path = '/Users/sydneydybing/SW4/strain/experiments/'\n",
    "path = '/Users/sydneydybing/SW4/strain/experiments/realistic_eq_sizes/'\n",
    "homo_list = os.listdir(path + 'homo_rupts/')\n",
    "rupts = []\n",
    "for file in homo_list:\n",
    "    if '000000' in file:\n",
    "        rupts.append(file)\n",
    "print(rupts)"
   ]
  },
  {
   "cell_type": "code",
   "execution_count": 12,
   "id": "c672d4cc-2d56-423a-88d1-a122f1af9217",
   "metadata": {
    "tags": []
   },
   "outputs": [
    {
     "name": "stdout",
     "output_type": "stream",
     "text": [
      "fq_M5.000000_homo.rupt\n",
      "fq_M5.000000.log\n",
      "/Users/sydneydybing/SW4/strain/experiments/realistic_eq_sizes/homo_rupts/fq_M5.000000_homo.rupt\n",
      "/Users/sydneydybing/SW4/strain/experiments/realistic_eq_sizes/homo_rupts/fq_M5.000000.log\n"
     ]
    },
    {
     "name": "stderr",
     "output_type": "stream",
     "text": [
      "/Users/sydneydybing/opt/anaconda3/envs/mudpy/lib/python3.11/site-packages/pyproj/__init__.py:89: UserWarning: pyproj unable to set database path.\n",
      "  _pyproj_global_context_initialize()\n"
     ]
    },
    {
     "name": "stdout",
     "output_type": "stream",
     "text": [
      "fq_M6.000000_homo.rupt\n",
      "fq_M6.000000.log\n",
      "/Users/sydneydybing/SW4/strain/experiments/realistic_eq_sizes/homo_rupts/fq_M6.000000_homo.rupt\n",
      "/Users/sydneydybing/SW4/strain/experiments/realistic_eq_sizes/homo_rupts/fq_M6.000000.log\n",
      "fq_M8.000000_homo.rupt\n",
      "fq_M8.000000.log\n",
      "/Users/sydneydybing/SW4/strain/experiments/realistic_eq_sizes/homo_rupts/fq_M8.000000_homo.rupt\n",
      "/Users/sydneydybing/SW4/strain/experiments/realistic_eq_sizes/homo_rupts/fq_M8.000000.log\n",
      "fq_M7.000000_homo.rupt\n",
      "fq_M7.000000.log\n",
      "/Users/sydneydybing/SW4/strain/experiments/realistic_eq_sizes/homo_rupts/fq_M7.000000_homo.rupt\n",
      "/Users/sydneydybing/SW4/strain/experiments/realistic_eq_sizes/homo_rupts/fq_M7.000000.log\n"
     ]
    }
   ],
   "source": [
    "# Make homogeneous SRFs\n",
    "\n",
    "for rupt in rupts:\n",
    "    \n",
    "    print(rupt)\n",
    "    log = 'fq_' + str(rupt.split('_')[1]) + '.log'\n",
    "    print(log)\n",
    "    \n",
    "#     # print(rupt)\n",
    "    rupt_path = path + 'homo_rupts/' + rupt\n",
    "    print(rupt_path)\n",
    "#     log_dir = path + 'homo_rupts/'\n",
    "#     rupt_num = rupt.split('_')[4][-1]\n",
    "#     # print(rupt_num)\n",
    "    log_path = path + 'homo_rupts/' + log\n",
    "    print(log_path)\n",
    "\n",
    "    # Make the SRF\n",
    "    forward.mudpy2srf(rupt_path, log_path)\n",
    "    "
   ]
  },
  {
   "cell_type": "code",
   "execution_count": null,
   "id": "b6f7e69a-0233-4d80-950f-417c5535bf42",
   "metadata": {},
   "outputs": [],
   "source": []
  }
 ],
 "metadata": {
  "kernelspec": {
   "display_name": "mudpy",
   "language": "python",
   "name": "mudpy"
  },
  "language_info": {
   "codemirror_mode": {
    "name": "ipython",
    "version": 3
   },
   "file_extension": ".py",
   "mimetype": "text/x-python",
   "name": "python",
   "nbconvert_exporter": "python",
   "pygments_lexer": "ipython3",
   "version": "3.11.8"
  }
 },
 "nbformat": 4,
 "nbformat_minor": 5
}
